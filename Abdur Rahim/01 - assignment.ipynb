{
 "cells": [
  {
   "cell_type": "markdown",
   "id": "fc4733d9",
   "metadata": {},
   "source": [
    "<h3>Make a fake dataset:\n",
    "\n",
    "\n",
    "1000 rows\n",
    "3 columns\n",
    "1st column will contain random float numbers 0 to 100\n",
    "2nd column will contain random integer numbers 0 to 100\n",
    "3rd column will contain random alphabet a-z</h3>"
   ]
  },
  {
   "cell_type": "code",
   "execution_count": 11,
   "id": "e8865a3c",
   "metadata": {},
   "outputs": [],
   "source": [
    "import numpy as np\n",
    "col1 = np.random.random(1000)*100\n",
    "col2 = np.random.randint(0,101,1000)\n",
    "col3 = [chr(x+ord('a')) for x in np.random.randint(0,26,1000)]\n",
    "# col3 = np.asarray(col3)\n"
   ]
  },
  {
   "cell_type": "code",
   "execution_count": 15,
   "id": "c83d3fd9",
   "metadata": {},
   "outputs": [
    {
     "data": {
      "text/plain": [
       "array([[74.55674432147696, 41, 'a'],\n",
       "       [59.02251529612338, 18, 'l'],\n",
       "       [51.292045705672365, 30, 'f'],\n",
       "       ...,\n",
       "       [47.81974127785203, 42, 'n'],\n",
       "       [31.953016851166225, 53, 'd'],\n",
       "       [7.333252842867822, 86, 'w']], dtype=object)"
      ]
     },
     "execution_count": 15,
     "metadata": {},
     "output_type": "execute_result"
    }
   ],
   "source": [
    "col1 = np.atleast_2d(col1)\n",
    "col2 = np.atleast_2d(col2)\n",
    "col3 = np.atleast_2d(col3)\n",
    "# # print(col1,col2,col3)\n",
    "# newArray = np.hstack((col1.T,col2.T,col3.T))\n",
    "# newArray\n",
    "newArray = np.empty((1000,3),dtype='O')\n",
    "i = 0\n",
    "for x in [col1,col2,col3]:\n",
    "    newArray[:,i] = x\n",
    "    i+=1\n",
    "newArray"
   ]
  },
  {
   "cell_type": "code",
   "execution_count": null,
   "id": "1f4ef3e2",
   "metadata": {},
   "outputs": [],
   "source": []
  }
 ],
 "metadata": {
  "kernelspec": {
   "display_name": "Python 3 (ipykernel)",
   "language": "python",
   "name": "python3"
  },
  "language_info": {
   "codemirror_mode": {
    "name": "ipython",
    "version": 3
   },
   "file_extension": ".py",
   "mimetype": "text/x-python",
   "name": "python",
   "nbconvert_exporter": "python",
   "pygments_lexer": "ipython3",
   "version": "3.9.4"
  }
 },
 "nbformat": 4,
 "nbformat_minor": 5
}
